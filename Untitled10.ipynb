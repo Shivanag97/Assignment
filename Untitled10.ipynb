{
 "cells": [
  {
   "cell_type": "code",
   "execution_count": 2,
   "id": "c67f7ccf-f28d-4c12-b910-23154a283fa2",
   "metadata": {},
   "outputs": [
    {
     "name": "stdin",
     "output_type": "stream",
     "text": [
      "enter your percentage 67\n"
     ]
    },
    {
     "name": "stdout",
     "output_type": "stream",
     "text": [
      "C\n"
     ]
    }
   ],
   "source": [
    "n=int(input(\"enter your percentage\"))\n",
    "if n > 90 :\n",
    "    print(\"A\")\n",
    "elif n >80 and n<=90 :\n",
    "    print(\"B\")\n",
    "elif n>=60 and n<=80 :\n",
    "    print(\"C\")\n",
    "else :\n",
    "    print(\"D\")"
   ]
  },
  {
   "cell_type": "code",
   "execution_count": 4,
   "id": "8f939950-a173-4a3e-98b6-429ee41a179c",
   "metadata": {},
   "outputs": [
    {
     "name": "stdin",
     "output_type": "stream",
     "text": [
      "enter cost price 57345\n"
     ]
    },
    {
     "name": "stdout",
     "output_type": "stream",
     "text": [
      "10%\n"
     ]
    }
   ],
   "source": [
    "m=int(input(\"enter cost price\"))\n",
    "if m > 100000 :\n",
    "    print(\"15%\")\n",
    "elif m >50000 and m<=100000 :\n",
    "    print(\"10%\")\n",
    "else :\n",
    "    print(\"5%\")"
   ]
  },
  {
   "cell_type": "code",
   "execution_count": 9,
   "id": "d8d97ea5-8893-4664-925c-169e578c14db",
   "metadata": {},
   "outputs": [
    {
     "name": "stdin",
     "output_type": "stream",
     "text": [
      "enter your city delhi\n"
     ]
    },
    {
     "data": {
      "text/plain": [
       "'red fort'"
      ]
     },
     "execution_count": 9,
     "metadata": {},
     "output_type": "execute_result"
    }
   ],
   "source": [
    "s={\"delhi\":\"red fort\",\"agra\":\"taj mahal\",\"jaipur\":\"jal mahal\"}\n",
    "s[input(\"enter your city\")]"
   ]
  },
  {
   "cell_type": "code",
   "execution_count": 10,
   "id": "8937d1da-6cee-4bb9-994b-d986a63e403a",
   "metadata": {},
   "outputs": [
    {
     "name": "stdin",
     "output_type": "stream",
     "text": [
      "enter number 5\n"
     ]
    },
    {
     "data": {
      "text/plain": [
       "120"
      ]
     },
     "execution_count": 10,
     "metadata": {},
     "output_type": "execute_result"
    }
   ],
   "source": [
    "\"\"\"why and when to use while loop in python give a detailed description with example ?\n",
    "   --- to run a block code until a certain condition is met.\"\"\"\n",
    "number=int(input(\"enter number\"))\n",
    "factorial=1\n",
    "while number >0:\n",
    "    factorial=factorial*number\n",
    "    number=number-1\n",
    "factorial\n",
    "\n"
   ]
  },
  {
   "cell_type": "code",
   "execution_count": 11,
   "id": "3ed62012-fc71-492b-b076-a570eeb27f26",
   "metadata": {},
   "outputs": [
    {
     "name": "stdout",
     "output_type": "stream",
     "text": [
      "10\n",
      "9\n",
      "8\n",
      "7\n",
      "6\n",
      "5\n",
      "4\n",
      "3\n",
      "2\n",
      "1\n"
     ]
    }
   ],
   "source": [
    "\"\"\"reverse a while loop to display number from 10 to 1 \"\"\"\n",
    "\n",
    "i=10\n",
    "while i > 0 :\n",
    "    print(i)\n",
    "    i=i-1"
   ]
  },
  {
   "cell_type": "code",
   "execution_count": 12,
   "id": "c818e1e7-ab41-4fc2-bf7a-d9e2e13111e7",
   "metadata": {},
   "outputs": [
    {
     "data": {
      "text/plain": [
       "[10, 9, 8, 7, 6, 5, 4, 3, 2, 1]"
      ]
     },
     "execution_count": 12,
     "metadata": {},
     "output_type": "execute_result"
    }
   ],
   "source": [
    "\"\"\"reverse a while loop to display number from 10 to 1 \"\"\"\n",
    "\n",
    "i=10\n",
    "s1=[]\n",
    "while i > 0 :\n",
    "    s1.append(i)\n",
    "    i=i-1\n",
    "s1"
   ]
  },
  {
   "cell_type": "code",
   "execution_count": null,
   "id": "ea879015-da65-4cb6-9a9e-a29dee25c455",
   "metadata": {},
   "outputs": [],
   "source": []
  }
 ],
 "metadata": {
  "kernelspec": {
   "display_name": "Python 3 (ipykernel)",
   "language": "python",
   "name": "python3"
  },
  "language_info": {
   "codemirror_mode": {
    "name": "ipython",
    "version": 3
   },
   "file_extension": ".py",
   "mimetype": "text/x-python",
   "name": "python",
   "nbconvert_exporter": "python",
   "pygments_lexer": "ipython3",
   "version": "3.10.8"
  }
 },
 "nbformat": 4,
 "nbformat_minor": 5
}
