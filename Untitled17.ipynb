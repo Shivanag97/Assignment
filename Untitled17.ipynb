{
 "cells": [
  {
   "cell_type": "code",
   "execution_count": 1,
   "id": "d5bcd5fc-5ef2-430b-bc1e-8db62ce7402d",
   "metadata": {},
   "outputs": [
    {
     "name": "stdout",
     "output_type": "stream",
     "text": [
      "[4, 9, 16, 25]\n",
      "ganavihs\n"
     ]
    }
   ],
   "source": [
    "\"\"\" Explain with an example each when to use a for loop and a while loop. \"\"\"\n",
    "\n",
    "\"\"\" for loop :-  squaring the each number from the list using for loop\"\"\"\n",
    "l=[2,3,4,5]\n",
    "l1=[]\n",
    "for i in l:\n",
    "    l1.append(i**2)\n",
    "print(l1)\n",
    "\n",
    "\n",
    "\"\"\" while loop :- reversing the string with while loop  \"\"\"\n",
    "\n",
    "s=\"shivanag\"\n",
    "s1=\"\"\n",
    "length=len(s)\n",
    "while length > 0 :\n",
    "    s1=s1+s[length-1]\n",
    "    length=length-1\n",
    "print(s1)"
   ]
  },
  {
   "cell_type": "code",
   "execution_count": 2,
   "id": "bd10f7ca-1cd6-4bae-9f03-9e8934e1234e",
   "metadata": {},
   "outputs": [
    {
     "name": "stdin",
     "output_type": "stream",
     "text": [
      "enter number 10\n"
     ]
    },
    {
     "name": "stdout",
     "output_type": "stream",
     "text": [
      "55\n"
     ]
    },
    {
     "name": "stdin",
     "output_type": "stream",
     "text": [
      "enter number 10\n"
     ]
    },
    {
     "name": "stdout",
     "output_type": "stream",
     "text": [
      "3628800\n"
     ]
    }
   ],
   "source": [
    "\"\"\" Write a python program to print the sum and product of the first 10 natural numbers using for\n",
    "and while loop.  \"\"\"\n",
    "\n",
    "\"\"\"  sum and product of first 10 natural numbers  \"\"\"\n",
    "n=int(input(\"enter number\"))\n",
    "i=1\n",
    "result=0\n",
    "while i <= n :\n",
    "    result=result+i\n",
    "    i=i+1\n",
    "print(result)\n",
    "\n",
    "\n",
    "n=int(input(\"enter number\"))\n",
    "i=1\n",
    "result=1\n",
    "while i <= n :\n",
    "    result=result*i\n",
    "    i=i+1\n",
    "print(result)"
   ]
  },
  {
   "cell_type": "code",
   "execution_count": 3,
   "id": "8eac5840-7877-4738-b783-da3dac1f585a",
   "metadata": {},
   "outputs": [
    {
     "name": "stdin",
     "output_type": "stream",
     "text": [
      "enter units 310\n"
     ]
    },
    {
     "name": "stdout",
     "output_type": "stream",
     "text": [
      "2250.0\n"
     ]
    }
   ],
   "source": [
    "\"\"\" Create a python program to compute the electricity bill for a household.\n",
    "The per-unit charges in rupees are as follows: For the first 100 units, the user will be charged Rs. 4.5 per\n",
    "unit, for the next 100 units, the user will be charged Rs. 6 per unit, and for the next 100 units, the user will\n",
    "be charged Rs. 10 per unit, After 300 units and above the user will be charged Rs. 20 per unit.\n",
    "You are required to take the units of electricity consumed in a month from the user as input.\n",
    "Your program must pass this test case: when the unit of electricity consumed by the user in a month is\n",
    "310, the total electricity bill should be 2250. \"\"\"\n",
    "\n",
    "n=int(input(\"enter units\"))\n",
    "if n <= 100 :\n",
    "    result=n*4.5\n",
    "elif n > 100 and n <= 200:\n",
    "    result=100*4.5+(n-100)*6\n",
    "elif n > 200 and n <= 300:\n",
    "    result=100*4.5+100*6+(n-200)*10\n",
    "else :\n",
    "    result=100*4.5+100*6+100*10+(n-300)*20\n",
    "print(result)"
   ]
  },
  {
   "cell_type": "code",
   "execution_count": 4,
   "id": "dd13e97e-1d8d-4ff2-ad49-c7d2bbc26ff3",
   "metadata": {},
   "outputs": [
    {
     "name": "stdout",
     "output_type": "stream",
     "text": [
      "[8, 64, 125, 216, 512, 1000, 1728, 2744, 3375, 4096, 5832, 8000, 10648, 13824, 15625, 17576, 21952, 27000, 32768, 39304, 42875, 46656, 54872, 64000, 74088, 85184, 91125, 97336, 110592, 125000, 140608, 157464, 166375, 175616, 195112, 216000, 238328, 262144, 274625, 287496, 314432, 343000, 373248, 405224, 421875, 438976, 474552, 512000, 551368, 592704, 614125, 636056, 681472, 729000, 778688, 830584, 857375, 884736, 941192, 1000000]\n"
     ]
    }
   ],
   "source": [
    "\"\"\" Q4. Create a list of numbers from 1 to 100. Use for loop and while loop to calculate the cube of each\n",
    "number and if the cube of that number is divisible by 4 or 5 then append that number in a list and print\n",
    "that list. \"\"\"\n",
    "\n",
    "result=[]\n",
    "result1=[]\n",
    "for i in range(1,101):\n",
    "    result.append(i**3)\n",
    "for j in result :\n",
    "    if j%4==0 or j%5==0:\n",
    "        result1.append(j)\n",
    "print(result1)"
   ]
  },
  {
   "cell_type": "code",
   "execution_count": 5,
   "id": "806162bd-c7cb-412e-a437-6a9632443f71",
   "metadata": {},
   "outputs": [
    {
     "name": "stdout",
     "output_type": "stream",
     "text": [
      "[8, 64, 125, 216, 512, 1000, 1728, 2744, 3375, 4096, 5832, 8000, 10648, 13824, 15625, 17576, 21952, 27000, 32768, 39304, 42875, 46656, 54872, 64000, 74088, 85184, 91125, 97336, 110592, 125000, 140608, 157464, 166375, 175616, 195112, 216000, 238328, 262144, 274625, 287496, 314432, 343000, 373248, 405224, 421875, 438976, 474552, 512000, 551368, 592704, 614125, 636056, 681472, 729000, 778688, 830584, 857375, 884736, 941192, 1000000]\n"
     ]
    }
   ],
   "source": [
    "result2=[]\n",
    "result3=[]\n",
    "i=1\n",
    "while i <= 100 :\n",
    "    result2.append(i**3)\n",
    "    i=i+1\n",
    "for j in result2 :\n",
    "    if j%4==0 or j%5==0:\n",
    "        result3.append(j)\n",
    "print(result3)"
   ]
  },
  {
   "cell_type": "code",
   "execution_count": null,
   "id": "2b8892a9-7900-4c09-9832-ac0fe62b3c14",
   "metadata": {},
   "outputs": [],
   "source": []
  }
 ],
 "metadata": {
  "kernelspec": {
   "display_name": "Python 3 (ipykernel)",
   "language": "python",
   "name": "python3"
  },
  "language_info": {
   "codemirror_mode": {
    "name": "ipython",
    "version": 3
   },
   "file_extension": ".py",
   "mimetype": "text/x-python",
   "name": "python",
   "nbconvert_exporter": "python",
   "pygments_lexer": "ipython3",
   "version": "3.10.8"
  }
 },
 "nbformat": 4,
 "nbformat_minor": 5
}
