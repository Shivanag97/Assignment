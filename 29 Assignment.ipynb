{
 "cells": [
  {
   "cell_type": "raw",
   "id": "bb6a1ba8-236e-4ab2-9058-bfff987ab617",
   "metadata": {},
   "source": [
    "1. who developed python programming language ?\n",
    "    Guido van Rossum"
   ]
  },
  {
   "cell_type": "raw",
   "id": "05952689-0c39-4554-b7b9-6c785c47640e",
   "metadata": {},
   "source": [
    "2. Which type of programming does python support?\n",
    "    object-oriented, structured, and functional programming"
   ]
  },
  {
   "cell_type": "raw",
   "id": "663ae13f-cddc-433d-af62-3a2d841160fa",
   "metadata": {},
   "source": [
    "3. is python case sensitive when dealing with identifiers ?\n",
    "    Yes"
   ]
  },
  {
   "cell_type": "raw",
   "id": "3c6ff5a1-5859-4a48-a30b-17c0069adf1e",
   "metadata": {},
   "source": [
    "4. what is the correct extension of the python file ?\n",
    "    .py"
   ]
  },
  {
   "cell_type": "raw",
   "id": "24552466-ddfc-4626-be0a-d4fa816be14e",
   "metadata": {},
   "source": [
    "5. is python code compiled or interpreted ?\n",
    "    Python is an interpreted language"
   ]
  },
  {
   "cell_type": "raw",
   "id": "440f05e1-3fbc-4572-aef4-25e13e5189b7",
   "metadata": {},
   "source": [
    "6. name a few blocks of code used to define in python language ?\n",
    "    module and function body"
   ]
  },
  {
   "cell_type": "raw",
   "id": "554f7e4a-8d23-4f9e-b736-c38f401382e5",
   "metadata": {},
   "source": [
    "7. state a chapter used to give single-line comment in python ?\n",
    "    #"
   ]
  },
  {
   "cell_type": "raw",
   "id": "e5c5b4dd-61ab-4a23-b4bc-1e38d4219706",
   "metadata": {},
   "source": [
    "8. mention functions which can help us to find the version of python that we are currently working on ?\n",
    "    sys.version\n"
   ]
  },
  {
   "cell_type": "raw",
   "id": "d221b7aa-b735-4866-8b40-524ca6b2d391",
   "metadata": {},
   "source": [
    "9. python supports the creation of anonymous function at runtime, using a construct called ______\n",
    "    Lambda"
   ]
  },
  {
   "cell_type": "raw",
   "id": "969e6085-76ac-4c25-a467-99e384c202f2",
   "metadata": {},
   "source": [
    "10. what does pip stands for python ?\n",
    "    preferred installer program"
   ]
  },
  {
   "cell_type": "raw",
   "id": "b3d6c5d1-9637-4385-8801-9ddbf27dce6d",
   "metadata": {},
   "source": [
    "11. mention a few built-in functions in python ?\n",
    "    print( ) \n",
    "    type( ) \n",
    "    input( )\n",
    "    max()"
   ]
  },
  {
   "cell_type": "raw",
   "id": "c33337df-f752-4644-981f-ace5dd40adff",
   "metadata": {},
   "source": [
    "12. what if the maximum possible length of an identifier in python ?\n",
    "    79 characters"
   ]
  },
  {
   "cell_type": "raw",
   "id": "a281d002-58dd-4582-b0d2-4740ab3ac27e",
   "metadata": {},
   "source": [
    "13. what are the benefits of using python ?\n",
    "    simple, clean, and fast to write."
   ]
  },
  {
   "cell_type": "raw",
   "id": "00e15ec6-3c88-4d1b-8382-f5455289da12",
   "metadata": {},
   "source": [
    "14. how is memory managed in the python ?\n",
    "    Memory management in Python involves a private heap containing all Python objects and data structures"
   ]
  },
  {
   "cell_type": "raw",
   "id": "3cec7eaf-c4f2-473d-870b-75cb85a78f51",
   "metadata": {},
   "source": [
    "15. how to install python on windows and set path variables ?"
   ]
  }
 ],
 "metadata": {
  "kernelspec": {
   "display_name": "Python 3 (ipykernel)",
   "language": "python",
   "name": "python3"
  },
  "language_info": {
   "codemirror_mode": {
    "name": "ipython",
    "version": 3
   },
   "file_extension": ".py",
   "mimetype": "text/x-python",
   "name": "python",
   "nbconvert_exporter": "python",
   "pygments_lexer": "ipython3",
   "version": "3.10.8"
  }
 },
 "nbformat": 4,
 "nbformat_minor": 5
}
